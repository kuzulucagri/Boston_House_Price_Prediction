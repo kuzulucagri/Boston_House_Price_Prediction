{
 "cells": [
  {
   "cell_type": "code",
   "execution_count": 1,
   "metadata": {},
   "outputs": [
    {
     "name": "stdout",
     "output_type": "stream",
     "text": [
      "X Train: \n",
      " [[-0.04910502 -0.04464164 -0.06440781 ... -0.04724262 -0.03324879\n",
      "  -0.05492509]\n",
      " [-0.02730979 -0.04464164 -0.03530688 ... -0.03949338 -0.04986847\n",
      "  -0.12948301]\n",
      " [ 0.01264814 -0.04464164  0.00672779 ... -0.03764833 -0.01811827\n",
      "  -0.09220405]\n",
      " ...\n",
      " [ 0.05987114 -0.04464164 -0.02129532 ...  0.07120998  0.07912108\n",
      "   0.13561183]\n",
      " [-0.07816532 -0.04464164 -0.0730303  ... -0.03949338 -0.01811827\n",
      "  -0.08391984]\n",
      " [ 0.04170844  0.05068012  0.07139652 ...  0.03430886  0.07341008\n",
      "   0.08590655]]\n",
      "\n",
      "Y Train: \n",
      " [ 96. 125. 182. 177.  48.  97. 259. 288. 242.  69.  31. 154. 150.  52.\n",
      " 261. 118. 102. 139.  51.  58. 144. 178.  97.  78. 129. 258. 124. 198.\n",
      " 185.  66. 237. 178. 275. 268. 242. 200. 214. 246. 236.  85. 114.  93.\n",
      "  99.  72. 270. 111.  83.  87.  42. 172.  65. 259. 279. 141. 144. 220.\n",
      "  90. 101.  53.  67.  72. 121. 303. 232. 140. 190. 221.  71. 116. 111.\n",
      " 280. 233.  78. 150. 283.  64. 140.  65. 225. 206.  63. 296. 173.  85.\n",
      " 141.  50.  25. 153.  55. 139. 336.  73.  95. 109.  44. 180. 263. 148.\n",
      "  79.  65. 102. 220. 277. 246. 200. 262. 191.  97. 184.  85. 248. 150.\n",
      " 268.  59.  70.  88. 100. 190. 113.  66. 243. 185. 262.  48. 160. 217.\n",
      " 210. 132. 257. 104. 126. 292. 166.  83.  81. 144. 281.  72.  39. 109.\n",
      "  60. 258. 178. 168.  87.  77. 216. 206. 142. 161. 265.  60. 200. 265.\n",
      " 272. 146.  94.  55.  69. 138. 258. 143. 172.  89.  69. 199.  55.  45.\n",
      " 265.  91. 170.  55. 202. 155.  77.  77.  71. 123.  84. 252.  52.  40.\n",
      " 274. 143. 245.  92. 151.  39. 235.  92. 253.  94.  81. 346.  90. 181.\n",
      " 162. 277. 152. 178. 124.  75. 263. 202. 200. 108.  96.  60.  72. 107.\n",
      "  54. 158. 152. 220. 308. 249. 222.  65. 173.  88.  72. 164.  52. 115.\n",
      " 200.  90. 248.  37. 230.  63. 273.  61.  53. 189. 241. 118. 252. 104.\n",
      " 219. 115. 332. 131. 185.  63. 131.  88. 187. 196.  59. 341. 109. 101.\n",
      " 113.  80. 242. 168. 128. 233. 209. 225.  83. 214.  96. 129.  47. 229.\n",
      " 293.  74. 202. 164. 202.  59.  91. 120. 151. 310.  90. 116. 147.  43.\n",
      "  42.  48. 134.  84.  71.  64.  70. 310. 311. 122. 243. 248.  91. 281.\n",
      " 142. 295.]\n"
     ]
    }
   ],
   "source": [
    "import pandas as pd\n",
    "from sklearn.datasets import load_diabetes\n",
    "\n",
    "digit = load_diabetes()\n",
    "\n",
    "x = digit[\"data\"]\n",
    "y = digit[\"target\"]\n",
    "\n",
    "xValues = pd.DataFrame(data = x,columns=['age','sex','bmi','bp','s1','s2','s3','s4','s5','s6'])\n",
    "yValues = pd.DataFrame(data = y,columns= ['Y'])\n",
    "\n",
    "from sklearn.model_selection import train_test_split\n",
    "\n",
    "X_train,X_test,y_train,y_test = train_test_split(x,y,test_size = 0.33,random_state = 0)\n",
    "\n",
    "print(\"X Train: \\n\",X_train)\n",
    "print(\"\\nY Train: \\n\",y_train)"
   ]
  },
  {
   "cell_type": "code",
   "execution_count": 2,
   "metadata": {},
   "outputs": [
    {
     "name": "stderr",
     "output_type": "stream",
     "text": [
      "C:\\Users\\cagri\\Anaconda3\\lib\\site-packages\\sklearn\\model_selection\\_split.py:670: UserWarning: The least populated class in y has only 1 members, which is less than n_splits=5.\n",
      "  warnings.warn((\"The least populated class in y has only %d\"\n"
     ]
    }
   ],
   "source": [
    "from sklearn import svm\n",
    "from sklearn.model_selection import cross_val_score\n",
    "clf = svm.SVC(kernel='linear', C=1, random_state=42)\n",
    "scores = cross_val_score(clf, x, y, cv=5)"
   ]
  },
  {
   "cell_type": "code",
   "execution_count": 3,
   "metadata": {},
   "outputs": [
    {
     "name": "stdout",
     "output_type": "stream",
     "text": [
      "[0.         0.01123596 0.01136364 0.01136364 0.02272727]\n"
     ]
    }
   ],
   "source": [
    "print(scores)"
   ]
  },
  {
   "cell_type": "code",
   "execution_count": 4,
   "metadata": {},
   "outputs": [
    {
     "name": "stdout",
     "output_type": "stream",
     "text": [
      "Confusion Matrix Result: \n",
      " [[12  6]\n",
      " [ 3  6]]\n",
      "Accuracy Score: 0.6666666666666666\n",
      "Error Rate:  0.33333333333333337\n",
      "Precision Result:  0.5\n"
     ]
    }
   ],
   "source": [
    "from sklearn.metrics import confusion_matrix,accuracy_score,precision_score\n",
    "y_pred2 = [1,1,1,0,0,1,0,1,0,0,0,1,0,0,1,1,0,0,1,1,0,0,0,0,1,1,0]\n",
    "y_test2 = [1,0,1,1,0,0,1,0,0,0,0,1,0,0,1,1,0,0,0,1,0,0,0,0,0,0,1]\n",
    "\n",
    "y_pred2 = pd.DataFrame(data = y_pred2)\n",
    "y_test2 = pd.DataFrame(data = y_test2)\n",
    "\n",
    "#Confusion matrix has 4 value, True Negative(TN),False Positive(FP),False Negative(FN),True Positive(TP) \n",
    "print(\"Confusion Matrix Result: \\n\",confusion_matrix(y_test2,y_pred2))\n",
    "#Accuracy Score is equal to TN + TP / Total Number\n",
    "print(\"Accuracy Score:\",accuracy_score(y_test2,y_pred2))\n",
    "#Error Rate is equal to FN + FP / Total Number\n",
    "print(\"Error Rate: \",1-accuracy_score(y_test2,y_pred2))\n",
    "#Precision Result is equal to TP /(FP + TP)\n",
    "print(\"Precision Result: \",precision_score(y_test2,y_pred2))"
   ]
  },
  {
   "cell_type": "markdown",
   "metadata": {},
   "source": [
    "Generally, the use of ROC curves and precision-recall curves are as follows:\n",
    "\n",
    "-ROC curves should be used when there are roughly equal numbers of observations for each class.\n",
    "\n",
    "-Precision-Recall curves should be used when there is a moderate to large class imbalance."
   ]
  },
  {
   "cell_type": "code",
   "execution_count": 8,
   "metadata": {},
   "outputs": [
    {
     "name": "stdout",
     "output_type": "stream",
     "text": [
      "Precision Result:  0.5\n",
      "Recall Result:  0.6666666666666666\n",
      "ROC Curve:  (array([0.        , 0.33333333, 1.        ]), array([0.        , 0.66666667, 1.        ]), array([2, 1, 0], dtype=int64))\n"
     ]
    }
   ],
   "source": [
    "from sklearn.metrics import precision_score,recall_score\n",
    "y_pred2 = [1,1,1,0,0,1,0,1,0,0,0,1,0,0,1,1,0,0,1,1,0,0,0,0,1,1,0]\n",
    "y_test2 = [1,0,1,1,0,0,1,0,0,0,0,1,0,0,1,1,0,0,0,1,0,0,0,0,0,0,1]\n",
    "\n",
    "y_pred2 = pd.DataFrame(data = y_pred2)\n",
    "y_test2 = pd.DataFrame(data = y_test2)\n",
    "\n",
    "#Precision Result is equal to TP /(FP + TP)\n",
    "print(\"Precision Result: \",precision_score(y_test2,y_pred2))\n",
    "#Recall Result is equal to TP /(TP + FN)\n",
    "print(\"Recall Result: \",recall_score(y_test2,y_pred2))\n",
    "#\n",
    "print(\"ROC Curve: \",roc_curve(y_test2,y_pred2))"
   ]
  },
  {
   "cell_type": "code",
   "execution_count": null,
   "metadata": {},
   "outputs": [],
   "source": []
  }
 ],
 "metadata": {
  "kernelspec": {
   "display_name": "Python 3",
   "language": "python",
   "name": "python3"
  },
  "language_info": {
   "codemirror_mode": {
    "name": "ipython",
    "version": 3
   },
   "file_extension": ".py",
   "mimetype": "text/x-python",
   "name": "python",
   "nbconvert_exporter": "python",
   "pygments_lexer": "ipython3",
   "version": "3.8.5"
  }
 },
 "nbformat": 4,
 "nbformat_minor": 4
}
